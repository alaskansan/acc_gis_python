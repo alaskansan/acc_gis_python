{
 "cells": [
  {
   "cell_type": "markdown",
   "metadata": {},
   "source": [
    "### 01. This is Jupyter Notebook!\n",
    "\n",
    "Welcome to Jupyter Notebook! This environment allows you to run Python code on a Jupyter server using *interpreted* mode. You'll notice that everything appears in *cells*. Cells like this one are *Markdown* cells. Markdown is like HTML but a lot easier to write. Try *double-clicking* on this cell to see the source code. When you are finished looking at it, run a cell by hitting `Ctrl-Enter` on your keyboard."
   ]
  },
  {
   "cell_type": "markdown",
   "metadata": {},
   "source": [
    "### 02. Python cells\n",
    "\n",
    "When you create a cell, the default *Cell Type* is *Python*. This means you can put in Python code. Python is a simple programming language. Try running the Python cell below by clicking on it and hitting `Ctrl-Enter`. You can also edit the cell so that it says prints something different."
   ]
  },
  {
   "cell_type": "code",
   "execution_count": null,
   "metadata": {},
   "outputs": [],
   "source": [
    "print(\"Hello World!\")"
   ]
  },
  {
   "cell_type": "markdown",
   "metadata": {},
   "source": [
    "### 03. Making variables\n",
    "\n",
    "Programming languages like Python have the ability to save data in variables. Making a variable in Python is easy. Just pick a name, use the *assignment operator* (the `=` character) and give it a value."
   ]
  },
  {
   "cell_type": "code",
   "execution_count": null,
   "metadata": {},
   "outputs": [],
   "source": [
    "pi = 3.14"
   ]
  },
  {
   "cell_type": "markdown",
   "metadata": {},
   "source": [
    "### 04. Printing a variable\n",
    "\n",
    "Printing a variable is easy. You can use the `print` command, followed by the variable. Try running the cell below. Alternatively, you can remove the `print` command and just type the name of the variable. Try that, too!"
   ]
  },
  {
   "cell_type": "code",
   "execution_count": null,
   "metadata": {},
   "outputs": [],
   "source": [
    "print(pi)"
   ]
  },
  {
   "cell_type": "markdown",
   "metadata": {},
   "source": [
    "### 05. Interpreted Python\n",
    "\n",
    "The interesting thing about the Jupyter Notebook environment is that any variables you create remain in memory until the *Kernel* is restarted. You will have to re-run any cells after the kernel restarts. Go to the *Kernel* menu in the Menu Bar at the top of the page, and select *Restart*. See what happens if you try to run the cell below after a Kernel restart. If you get an error, try to fix it by running one of the previous cells."
   ]
  },
  {
   "cell_type": "code",
   "execution_count": null,
   "metadata": {},
   "outputs": [],
   "source": [
    "pi"
   ]
  },
  {
   "cell_type": "markdown",
   "metadata": {},
   "source": [
    "### 06. Importing a Package\n",
    "\n",
    "One of the best things about Python is that there is a lot of useful code that is distributed in *packages*. Let's import a package called `pandas`. `pandas` is designed to manage tabular data. "
   ]
  },
  {
   "cell_type": "code",
   "execution_count": null,
   "metadata": {},
   "outputs": [],
   "source": [
    "import pandas\n",
    "pandas"
   ]
  },
  {
   "cell_type": "markdown",
   "metadata": {},
   "source": [
    "### 07. Reading a CSV\n",
    "\n",
    "Today, we are going to filter a 6 gigabyte text file of tab separated data about bird sightings for a specific type of bird called a _Black-capped Vireo_, and save it as a CSV. \n",
    "\n",
    "![Black Capped Vireo](blackcappedvireo.jpg)\n",
    "\n",
    "First, we need to read it in using pandas. This code uses the `read_csv` *function* and save the result in a variable called `birds`. The first *parameter* for the function is the filename. The next parameter is called a *named parmameter*. It simply says that the text file uses a tab as a column separator.\n",
    "\n",
    "_*This may take a while to run!*_"
   ]
  },
  {
   "cell_type": "code",
   "execution_count": null,
   "metadata": {},
   "outputs": [],
   "source": [
    "birds = pandas.read_csv(\"birds.txt\",sep='\\t')\n",
    "birds"
   ]
  },
  {
   "cell_type": "markdown",
   "metadata": {},
   "source": [
    "### 08. Describing the Data Frame\n",
    "\n",
    "`birds` now contains a *Data Frame*, which is like a table but with a bunch of convenient features. A common task for data scientists, once they get a data set, is to run the Data Frame's `describe()` function. In the cell below, try typing the code `birds.describe()`."
   ]
  },
  {
   "cell_type": "code",
   "execution_count": null,
   "metadata": {},
   "outputs": [],
   "source": []
  },
  {
   "cell_type": "markdown",
   "metadata": {},
   "source": [
    "### 09. Filtering a Data Frame\n",
    "\n",
    "`pandas` uses a weird syntax for filtering for values. Without getting into it too much, the code below creates a subset of the data with the word \"Vireo\". How many Vireo sightings occured in this data set?"
   ]
  },
  {
   "cell_type": "code",
   "execution_count": null,
   "metadata": {},
   "outputs": [],
   "source": [
    "vireos = birds[birds['COMMON NAME'].str.contains(\"Vireo\")==True]\n",
    "vireos"
   ]
  },
  {
   "cell_type": "markdown",
   "metadata": {},
   "source": [
    "### 10. Cut and Paste is the Programmer's Way!\n",
    "\n",
    "You may have noticed that this data set contains a lot more than just Black-capped Vireos. It also contains other variants like White-eyed Vireos and Blue-headed Vireos. Copy the code for filtering for all occurrences of `Vireo` from `birds` and see if you can create a subset called 'blackcappedvireos'."
   ]
  },
  {
   "cell_type": "code",
   "execution_count": null,
   "metadata": {},
   "outputs": [],
   "source": []
  },
  {
   "cell_type": "markdown",
   "metadata": {},
   "source": [
    "### 11. Quick and Dirty Maps\n",
    "\n",
    "You may wish to preview your data before doing significant work on it in ArcGIS. Python programmers use `matplotlib` to make graphs. `matplotlib` supports mapping features with a package called [`Basemap`](https://matplotlib.org/basemap/). You can alter the appearance of the map by modifying the parameters for each function. For example, try changing the appearance of the county and state lines."
   ]
  },
  {
   "cell_type": "code",
   "execution_count": null,
   "metadata": {},
   "outputs": [],
   "source": [
    "%matplotlib inline\n",
    "from mpl_toolkits.basemap import Basemap\n",
    "import matplotlib.pyplot as plt\n",
    "plt.figure(figsize=(10,10), dpi=96)\n",
    "map = Basemap(llcrnrlat=25, llcrnrlon=-108,  urcrnrlat=37, urcrnrlon=-92, epsg=3081)\n",
    "map.drawcoastlines(linewidth=1,color='yellow')\n",
    "map.drawcounties(linewidth=0.5, color='gray')\n",
    "map.drawstates(linewidth=0.25, color='white')\n",
    "map.arcgisimage()\n",
    "map.scatter(blackcappedvireos['LONGITUDE'].values, blackcappedvireos['LATITUDE'].values, color='cyan', latlon=True)\n",
    "plt.show()"
   ]
  },
  {
   "cell_type": "markdown",
   "metadata": {},
   "source": [
    "### 12. Exporting Your Data\n",
    "\n",
    "When you are satisfied that your `blackcappedvireos` data set has only the entries that you desire, you can export it to a CSV file."
   ]
  },
  {
   "cell_type": "code",
   "execution_count": null,
   "metadata": {},
   "outputs": [],
   "source": [
    "blackcappedvireos.to_csv('blackcappedvireos.csv')"
   ]
  }
 ],
 "metadata": {
  "kernelspec": {
   "display_name": "Python 3",
   "language": "python",
   "name": "python3"
  },
  "language_info": {
   "codemirror_mode": {
    "name": "ipython",
    "version": 3
   },
   "file_extension": ".py",
   "mimetype": "text/x-python",
   "name": "python",
   "nbconvert_exporter": "python",
   "pygments_lexer": "ipython3",
   "version": "3.5.2"
  }
 },
 "nbformat": 4,
 "nbformat_minor": 2
}
