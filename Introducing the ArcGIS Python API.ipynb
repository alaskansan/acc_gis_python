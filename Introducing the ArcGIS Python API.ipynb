{
 "cells": [
  {
   "cell_type": "markdown",
   "metadata": {},
   "source": [
    "## Introducing the ArcGIS Python API\n",
    "\n",
    "The ArcGIS Python API provides a way to explore and analyze spatial data in a more flexible way than ArcPy and with a heavy focus on web GIS.\n"
   ]
  },
  {
   "cell_type": "markdown",
   "metadata": {},
   "source": [
    "### 01 - Import arcgis\n",
    "\n",
    "We start by importing the <a href=\"https://esri.github.io/arcgis-python-api/apidoc/html/arcgis.gis.toc.html#gis\" target=\"_blank\">GIS</a> module, which is an object that will represent a single ArcGIS Online, ArcGIS Portal or ArcGIS Enterprise environment."
   ]
  },
  {
   "cell_type": "code",
   "execution_count": null,
   "metadata": {},
   "outputs": [],
   "source": [
    "from arcgis.gis import GIS\n",
    "from IPython.display import display"
   ]
  },
  {
   "cell_type": "markdown",
   "metadata": {},
   "source": [
    "### 02 - Login to ArcGIS Online\n",
    "\n",
    "Since we're in a shared environment, we'll use a free account previously setup for this purpose.\n",
    "\n",
    "In the following prompts, enter the username and password of your own ArcGIS Online account or the shared account made for this event. We use the `getpass` module to demonstrate obscuring passwords, which is helpful when sharing and publishing notebooks.\n",
    "\n",
    "To confirm that we've successfully authenticated, we'll ask the API to return the logged in user's full name property."
   ]
  },
  {
   "cell_type": "code",
   "execution_count": null,
   "metadata": {},
   "outputs": [],
   "source": [
    "from getpass import getpass\n",
    "\n",
    "\n",
    "username = input('Enter your ArcGIS Online username: ')\n",
    "password = getpass('Enter your ArcGIS Online password: ')\n",
    "\n",
    "try:\n",
    "    gis = GIS('https://www.arcgis.com', username, password)\n",
    "    full_name = gis.properties.user['fullName']\n",
    "    print('Successfully authenticated: {} is logged in'.format(full_name)) \n",
    "except RuntimeError:\n",
    "    print('Unable to authenticate')"
   ]
  },
  {
   "cell_type": "markdown",
   "metadata": {},
   "source": [
    "### 03 - Features Module\n",
    "\n",
    "The <a href=\"https://esri.github.io/arcgis-python-api/apidoc/html/arcgis.features.toc.html#featurelayer\" target=\"_blank\">FeatureLayer</a> is the primary concept for working with features in a GIS.\n",
    "\n",
    "Users create, import, export, analyze, edit, and visualize features, i.e. entities in space as feature layers.\n",
    "\n",
    "Let's take a publicly available ArcGIS Server layer and visualize, query and extract it in our notebook. We'll use a layer produced by TNRIS that represents low water crossings across Texas, inspect it for some important properties, view it on our web map and then export to a feature class."
   ]
  },
  {
   "cell_type": "code",
   "execution_count": null,
   "metadata": {},
   "outputs": [],
   "source": [
    "from arcgis.features import FeatureLayer\n",
    "\n",
    "# An ArcGIS Server layer produced by TNRIS representing low water crossings across the state\n",
    "tnris_layer_url = 'https://webservices.tnris.org/arcgis/rest/services/Low_Water_Crossings/Low_Water_Crossings/MapServer/0'\n",
    "feature_layer = FeatureLayer(tnris_layer_url)\n"
   ]
  },
  {
   "cell_type": "markdown",
   "metadata": {},
   "source": [
    "#### Querying the FeatureLayer\n",
    "\n",
    "The ArcGIS Python API makes it easy to investigate and query our spatial data. Lets get a total record count for our feature layer and some other information like geometry type and spatial reference, then query the data down to Travis county.\n",
    "\n",
    "Notice we need to escape the quotes around the query term Travis. Using escape sequences in strings tells Python to treat the following character as just another member of the string. We could have also provided double quotes. "
   ]
  },
  {
   "cell_type": "code",
   "execution_count": null,
   "metadata": {},
   "outputs": [],
   "source": [
    "record_count = feature_layer.query(where='1=1', return_count_only=True)\n",
    "\n",
    "\n",
    "print('Feature geometry type: {}'.format(feature_layer.properties['geometryType']))\n",
    "print('Feature spatial reference: {}'.format(str(feature_layer.properties['sourceSpatialReference']['latestWkid'])))\n",
    "print('Feature record count: {}'.format(str(record_count)))\n",
    "\n",
    "\n",
    "travis_county_crossings = feature_layer.query(where='COUNTY = \\'TRAVIS\\'')\n",
    "travis_county_crossings.df"
   ]
  },
  {
   "cell_type": "markdown",
   "metadata": {},
   "source": [
    "#### Visualize the FeatureLayer on a Map\n",
    "\n",
    "Next, we create a new `map` instance and add our feature layer to it so we can visualize and interact with the data."
   ]
  },
  {
   "cell_type": "code",
   "execution_count": null,
   "metadata": {},
   "outputs": [],
   "source": [
    "map = gis.map('Austin, Texas', zoomlevel=12)\n",
    "map.add_layer(travis_county_crossings)\n",
    "map"
   ]
  },
  {
   "cell_type": "markdown",
   "metadata": {},
   "source": [
    "#### Creating a SpatialDataFrame"
   ]
  },
  {
   "cell_type": "code",
   "execution_count": null,
   "metadata": {},
   "outputs": [],
   "source": [
    "from arcgis.features import SpatialDataFrame\n",
    "\n",
    "spatial_df = SpatialDataFrame.from_layer(feature_layer)\n",
    "spatial_df\n"
   ]
  },
  {
   "cell_type": "markdown",
   "metadata": {},
   "source": [
    "#### Exporting to a Feature Class\n",
    "\n",
    "Let's export our SpatialDataFrame to a feature class so we can download for further analysis or for sending to co-workers. In this next cell, we're using the `to_featureclass` method of the SpatialDataFrame to easily write our features to a local file.\n",
    "\n",
    "There's a lot happening here so don't worry if it looks a little confusing. Much of what we're doing is meant to be nice to the shared environment (writing intermediate files to a temporary directory, working inside <a href=\"https://en.wikibooks.org/wiki/Python_Programming/Context_Managers\" target=\"_blank\">context managers</a> to automatically clean up after ourselves, etc.)\n",
    "\n",
    "What we'll end up with is a zip file in our home directory containing a shapefile of our SpatialDataFrame. We can then easily download it from the Jupyter Home page."
   ]
  },
  {
   "cell_type": "code",
   "execution_count": null,
   "metadata": {},
   "outputs": [],
   "source": [
    "import os\n",
    "import zipfile\n",
    "import tempfile\n",
    "\n",
    "# Make sure the directory 'Slice-of-py' exists, and if it doesn't, create it.\n",
    "output_path = os.path.join(os.path.expanduser('~'), 'Slice-of-py')\n",
    "if not os.path.exists(output_path):\n",
    "    os.mkdir(output_path)\n",
    "\n",
    "\n",
    "zipname = input('Give your zip file a name: ')\n",
    "    \n",
    "    \n",
    "# Create a new temporary directory that is guaranteed to be removed when we're done\n",
    "with tempfile.TemporaryDirectory() as tempdir:\n",
    "    \n",
    "    # Write the shapefile to the temporary directory, giving it the name of our FeatureLayer\n",
    "    spatial_df.to_featureclass(out_location=tempdir, out_name=feature_layer.properties.name)\n",
    "    \n",
    "    # Create a new zip file in our \"home\" directory using compression\n",
    "    with zipfile.ZipFile(os.path.join(output_path, zipname + '.zip'), mode='w', compression=zipfile.ZIP_DEFLATED) as fc_zip:\n",
    "        \n",
    "        # Loop over the files we just created in the temporary directory\n",
    "        for shpfile in os.listdir(tempdir):\n",
    "            \n",
    "            # Print and write the shapefile components to the zip file we just created\n",
    "            print(shpfile)\n",
    "            fc_zip.write(os.path.join(tempdir, shpfile), arcname=shpfile)"
   ]
  },
  {
   "cell_type": "markdown",
   "metadata": {},
   "source": [
    "### 04 - Mapping Module\n",
    "\n",
    "The mapping module allows us to interact with web maps and web scenes from our GIS. We can create new items or get references to and edit existing items.\n",
    "\n",
    "Let's create a new web map and add our feature layer to it, then save to ArcGIS Online so we can share it with the world."
   ]
  },
  {
   "cell_type": "code",
   "execution_count": null,
   "metadata": {},
   "outputs": [],
   "source": [
    "from arcgis.mapping import WebMap\n",
    "webmap = WebMap()\n",
    "webmap.add_layer(feature_layer)\n",
    "\n",
    "title = input('Give your WebMap a title: ')\n",
    "item_properties = {\n",
    "    'title': title,\n",
    "    'snippet': 'Low Water Crossings in Texas provided by TNRIS',\n",
    "    'tags': ['texas']\n",
    "}\n",
    "\n",
    "webmap.save(item_properties)"
   ]
  },
  {
   "cell_type": "code",
   "execution_count": null,
   "metadata": {},
   "outputs": [],
   "source": []
  }
 ],
 "metadata": {
  "kernelspec": {
   "display_name": "Python 3",
   "language": "python",
   "name": "python3"
  },
  "language_info": {
   "codemirror_mode": {
    "name": "ipython",
    "version": 3
   },
   "file_extension": ".py",
   "mimetype": "text/x-python",
   "name": "python",
   "nbconvert_exporter": "python",
   "pygments_lexer": "ipython3",
   "version": "3.5.2"
  }
 },
 "nbformat": 4,
 "nbformat_minor": 2
}
